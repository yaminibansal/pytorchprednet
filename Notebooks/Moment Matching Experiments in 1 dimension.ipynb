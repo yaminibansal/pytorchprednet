{
 "cells": [
  {
   "cell_type": "code",
   "execution_count": 2,
   "metadata": {
    "collapsed": true
   },
   "outputs": [],
   "source": [
    "import numpy as np\n",
    "import numpy.random as npr\n",
    "import matplotlib.pyplot as plt\n",
    "from sklearn.metrics.pairwise import rbf_kernel"
   ]
  },
  {
   "cell_type": "code",
   "execution_count": 98,
   "metadata": {
    "collapsed": false
   },
   "outputs": [],
   "source": [
    "def generate_samples(mean, N):\n",
    "    gen_samples = mean + npr.randn(N)\n",
    "    return gen_samples[:,None]\n",
    "\n",
    "def calculate_mmd(gen_samples, inp_sample, kernel_bw):\n",
    "    # We want to use the unbiased estimate mentioned in the kernel 2 sample test paper \n",
    "    # The GMMN paper uses biased version dunno why\n",
    "    \n",
    "    N = gen_samples.shape[0]\n",
    "    M = inp_sample.shape[0]\n",
    "    \n",
    "    cross_kern = 2*rbf_kernel(gen_samples, inp_sample)/(M*N)\n",
    "    if N>1:\n",
    "        self_kern_gen = rbf_kernel(gen_samples, gen_samples)/(N*(N-1))\n",
    "        np.fill_diagonal(self_kern_gen, 0)\n",
    "    else:\n",
    "        self_kern_gen = 0\n",
    "    if M>1:\n",
    "        self_kern_inp = rbf_kernel(inp_sample, inp_sample)/(M*(M-1))\n",
    "        np.fill_diagonal(self_kern_gen, 0)\n",
    "    else:\n",
    "        self_kern_inp = 0\n",
    "    \n",
    "    return np.sum(self_kern_gen)+np.sum(self_kern_inp) - np.sum(cross_kern) "
   ]
  },
  {
   "cell_type": "code",
   "execution_count": 104,
   "metadata": {
    "collapsed": false
   },
   "outputs": [
    {
     "name": "stdout",
     "output_type": "stream",
     "text": [
      "0.0703881742928\n"
     ]
    }
   ],
   "source": [
    "no_trials = 10       #Number of trials \n",
    "N = 50               #Number of generated samples\n",
    "M = 1                #Number of input samples\n",
    "kernel_bw = 0.5      #bandwidth of the RBF kernel\n",
    "\n",
    "# do autograd for the mean and get the optimal mean\n",
    "\n",
    "# need to try with different values of the input\n",
    "# need to try with different generated samples\n",
    "# need to try different distributions (will need to check how to characterize them)\n",
    "\n",
    "gen_samples = generate_samples(0, 100)\n",
    "inp_samples = generate_samples(0, 1)\n",
    "print calculate_mmd(gen_samples, inp_samples, kernel_bw)"
   ]
  },
  {
   "cell_type": "code",
   "execution_count": 97,
   "metadata": {
    "collapsed": false
   },
   "outputs": [
    {
     "data": {
      "text/plain": [
       "(1, 1)"
      ]
     },
     "execution_count": 97,
     "metadata": {},
     "output_type": "execute_result"
    }
   ],
   "source": [
    "inp_samples.shape"
   ]
  },
  {
   "cell_type": "code",
   "execution_count": 26,
   "metadata": {
    "collapsed": false
   },
   "outputs": [
    {
     "data": {
      "text/plain": [
       "0.42789642364110803"
      ]
     },
     "execution_count": 26,
     "metadata": {},
     "output_type": "execute_result"
    }
   ],
   "source": [
    "np.sum(cross_kern)"
   ]
  },
  {
   "cell_type": "code",
   "execution_count": 68,
   "metadata": {
    "collapsed": false
   },
   "outputs": [
    {
     "data": {
      "text/plain": [
       "array([[ 0.90225976,  0.97597993],\n",
       "       [ 0.23035071,  0.58258331]])"
      ]
     },
     "execution_count": 68,
     "metadata": {},
     "output_type": "execute_result"
    }
   ],
   "source": [
    "rbf_kernel(gen_samples, inp_samples)"
   ]
  },
  {
   "cell_type": "code",
   "execution_count": 5,
   "metadata": {
    "collapsed": false
   },
   "outputs": [
    {
     "data": {
      "text/plain": [
       "array([0, 1, 2, 3, 4, 5, 6, 7, 8, 9])"
      ]
     },
     "execution_count": 5,
     "metadata": {},
     "output_type": "execute_result"
    }
   ],
   "source": [
    "im_rows=20\n",
    "np.arange(0,im_rows/2, 1)"
   ]
  },
  {
   "cell_type": "code",
   "execution_count": 4,
   "metadata": {
    "collapsed": false
   },
   "outputs": [
    {
     "data": {
      "text/plain": [
       "10"
      ]
     },
     "execution_count": 4,
     "metadata": {},
     "output_type": "execute_result"
    }
   ],
   "source": [
    "im_rows/2"
   ]
  },
  {
   "cell_type": "code",
   "execution_count": null,
   "metadata": {
    "collapsed": true
   },
   "outputs": [],
   "source": []
  }
 ],
 "metadata": {
  "anaconda-cloud": {},
  "kernelspec": {
   "display_name": "Python [conda root]",
   "language": "python",
   "name": "conda-root-py"
  },
  "language_info": {
   "codemirror_mode": {
    "name": "ipython",
    "version": 2
   },
   "file_extension": ".py",
   "mimetype": "text/x-python",
   "name": "python",
   "nbconvert_exporter": "python",
   "pygments_lexer": "ipython2",
   "version": "2.7.12"
  }
 },
 "nbformat": 4,
 "nbformat_minor": 1
}
