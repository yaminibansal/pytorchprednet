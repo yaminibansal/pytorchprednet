{
 "cells": [
  {
   "cell_type": "code",
   "execution_count": 1,
   "metadata": {
    "collapsed": false
   },
   "outputs": [
    {
     "name": "stderr",
     "output_type": "stream",
     "text": [
      "Using Theano backend.\n",
      "Using cuDNN version 5110 on context None\n",
      "Mapped name None to device cuda0: GeForce GTX 1080 (0000:01:00.0)\n"
     ]
    }
   ],
   "source": [
    "import numpy as np\n",
    "import numpy.random as npr\n",
    "import matplotlib.pyplot as plt\n",
    "\n",
    "from keras import backend as K\n",
    "from keras.models import Model\n",
    "from keras.layers import Input\n",
    "from keras.layers.core import Flatten\n",
    "from keras.layers.convolutional import Conv2D, UpSampling2D\n",
    "from keras.layers.convolutional_recurrent import ConvLSTM2D\n",
    "from keras.layers.pooling import MaxPooling2D\n",
    "from keras.activations import relu\n",
    "from keras.layers.merge import Concatenate\n",
    "from keras.layers.wrappers import TimeDistributed"
   ]
  },
  {
   "cell_type": "markdown",
   "metadata": {
    "collapsed": true
   },
   "source": [
    "# Building a simple model\n",
    "This model will have two layers of a simple ConvLSTM2D\n",
    "\n",
    "lstm(R1) <---- A1 \n",
    " |              ^\n",
    " |              |\n",
    "upsample       conv\n",
    " |              | \n",
    "lstm(R0) <---- A0 <--conv-- Inp\n",
    "\n",
    "## Questions:\n",
    "1. How do I choose the number of filters in every layer?"
   ]
  },
  {
   "cell_type": "code",
   "execution_count": 2,
   "metadata": {
    "collapsed": false
   },
   "outputs": [
    {
     "name": "stdout",
     "output_type": "stream",
     "text": [
      "(None, 9, 20, 20, 1)\n",
      "(None, 9, 20, 20, 50)\n",
      "(None, 9, 10, 10, 50)\n",
      "(None, 9, 10, 10, 100)\n",
      "(None, 9, 20, 20, 100)\n",
      "(None, 9, 20, 20, 101)\n",
      "(None, 9, 20, 20, 100)\n",
      "(None, 9, 20, 20, 1)\n"
     ]
    }
   ],
   "source": [
    "batch_size = 10\n",
    "original_dim = (9, 20, 20, 1)\n",
    "epochs = 50\n",
    "\n",
    "#Input image to the network\n",
    "x = Input(shape=original_dim) # (batch_size, no_frames, im_rows, im_cols, no_filters) = (10, 10, 20, 20, 1)\n",
    "\n",
    "#1st layer convolution stack\n",
    "# output size (10, 10, 20, 20, 100)\n",
    "A1_conv = TimeDistributed(Conv2D(filters=50, kernel_size=(3,3), padding='same', data_format=\"channels_last\", activation=\"relu\"))(x)\n",
    "# output size (10, 10, 10, 10, 100)\n",
    "A1 = TimeDistributed(MaxPooling2D(pool_size=2, data_format=\"channels_last\"))(A1_conv)\n",
    "\n",
    "#2nd layer convolution stack \n",
    "# output size (10, 10, 13, 13, 200)\n",
    "#A1_intermediate = TimeDistributed(Conv2D(filters=200, kernel_size=(3,3), padding='same', data_format=\"channels_last\", activation=\"relu\"))(A0)\n",
    "# output size (10, 10, 11, 11, 400)\n",
    "#A1 = TimeDistributed(Conv2D(filters=400, kernel_size=(3,3), padding='same', data_format=\"channels_last\", activation=\"relu\"))(A0)\n",
    "\n",
    "# If we have ConvLSTM, do we need 2 separate layers of convolution? I think the LSTM should get the input from the second \n",
    "# # output size (10, 10, 10, 10, 400)\n",
    "R1 = ConvLSTM2D(filters = 100, kernel_size=(3,3), padding='same', data_format=\"channels_last\", return_sequences=True)(A1)\n",
    "\n",
    "R0_input_topdown = TimeDistributed(UpSampling2D(size=(2,2)))(R1)\n",
    "R0_input_lateral = x\n",
    "R0_input = Concatenate(axis=-1)([R0_input_topdown, R0_input_lateral])\n",
    "R0 = ConvLSTM2D(filters = 100, kernel_size=(3,3), padding='same', data_format=\"channels_last\", return_sequences=True)(R0_input)\n",
    "\n",
    "output = TimeDistributed(Conv2D(filters=1, kernel_size=(3,3), padding='same', data_format=\"channels_last\"))(R0)\n",
    "\n",
    "model = Model(inputs=x, outputs=output)\n",
    "\n",
    "for count in range(8):\n",
    "    print(model.layers[count].output_shape)"
   ]
  },
  {
   "cell_type": "code",
   "execution_count": 3,
   "metadata": {
    "collapsed": false
   },
   "outputs": [],
   "source": [
    "model.compile(optimizer='rmsprop', loss='mse', metrics=['accuracy'])"
   ]
  },
  {
   "cell_type": "markdown",
   "metadata": {
    "collapsed": false
   },
   "source": [
    "## Loading the data"
   ]
  },
  {
   "cell_type": "code",
   "execution_count": 4,
   "metadata": {
    "collapsed": false
   },
   "outputs": [],
   "source": [
    "import hickle as hkl\n",
    "datapath = '/home/ybansal/Documents/Research/stochastic-prednet/Data/confused_ball/train.hkl'"
   ]
  },
  {
   "cell_type": "code",
   "execution_count": 5,
   "metadata": {
    "collapsed": false
   },
   "outputs": [],
   "source": [
    "f = open(datapath, 'r')\n",
    "data_container = hkl.load(f)\n",
    "f.close()"
   ]
  },
  {
   "cell_type": "code",
   "execution_count": 6,
   "metadata": {
    "collapsed": false
   },
   "outputs": [],
   "source": [
    "X_train = data_container['videos'][:,0:9]\n",
    "Y_train = data_container['videos'][:,1:10]"
   ]
  },
  {
   "cell_type": "code",
   "execution_count": 7,
   "metadata": {
    "collapsed": false
   },
   "outputs": [
    {
     "name": "stdout",
     "output_type": "stream",
     "text": [
      "Epoch 1/10\n",
      "17s - loss: 0.0202 - acc: 0.0000e+00\n",
      "Epoch 2/10\n",
      "17s - loss: 0.0132 - acc: 0.0000e+00\n",
      "Epoch 3/10\n",
      "17s - loss: 0.0120 - acc: 0.0000e+00\n",
      "Epoch 4/10\n",
      "17s - loss: 0.0113 - acc: 0.0000e+00\n",
      "Epoch 5/10\n",
      "17s - loss: 0.0110 - acc: 0.0000e+00\n",
      "Epoch 6/10\n",
      "17s - loss: 0.0109 - acc: 0.0000e+00\n",
      "Epoch 7/10\n",
      "17s - loss: 0.0108 - acc: 0.0000e+00\n",
      "Epoch 8/10\n",
      "17s - loss: 0.0108 - acc: 0.0000e+00\n",
      "Epoch 9/10\n",
      "17s - loss: 0.0108 - acc: 0.0000e+00\n",
      "Epoch 10/10\n",
      "17s - loss: 0.0107 - acc: 0.0000e+00\n"
     ]
    },
    {
     "data": {
      "text/plain": [
       "<keras.callbacks.History at 0x7fa69ee3f910>"
      ]
     },
     "execution_count": 7,
     "metadata": {},
     "output_type": "execute_result"
    }
   ],
   "source": [
    "model.fit(X_train, Y_train, epochs=10, batch_size=10, verbose=2)"
   ]
  },
  {
   "cell_type": "code",
   "execution_count": 8,
   "metadata": {
    "collapsed": false
   },
   "outputs": [],
   "source": [
    "Y_predicted = model.predict(X_train)"
   ]
  },
  {
   "cell_type": "code",
   "execution_count": 9,
   "metadata": {
    "collapsed": true
   },
   "outputs": [],
   "source": [
    "import matplotlib.pyplot as plt\n",
    "import matplotlib.gridspec as gridspec"
   ]
  },
  {
   "cell_type": "code",
   "execution_count": 10,
   "metadata": {
    "collapsed": false
   },
   "outputs": [],
   "source": [
    "i=8\n",
    "\n",
    "nt = 9\n",
    "gs = gridspec.GridSpec(3, nt)\n",
    "gs.update(wspace=0., hspace=0.)\n",
    "for t in range(nt):\n",
    "        plt.subplot(gs[t])\n",
    "        plt.imshow(X_train[i,t,:,:,0], interpolation='none')\n",
    "        plt.gray()\n",
    "        plt.tick_params(axis='both', which='both', bottom='off', top='off', left='off', right='off', labelbottom='off', labelleft='off')\n",
    "        if t==0: plt.ylabel('Actual', fontsize=10)\n",
    "\n",
    "        plt.subplot(gs[t + nt])\n",
    "        plt.imshow(Y_predicted[i,t,:,:,0], interpolation='none')\n",
    "        plt.gray()\n",
    "        plt.tick_params(axis='both', which='both', bottom='off', top='off', left='off', right='off', labelbottom='off', labelleft='off')\n",
    "        if t==0: plt.ylabel('Predicted', fontsize=10)\n",
    "            \n",
    "        plt.subplot(gs[t + 2*nt])\n",
    "        plt.imshow(X_train[i,t,:,:,0]-Y_predicted[0,t,:,:,0], interpolation='none')\n",
    "        plt.gray()\n",
    "        plt.tick_params(axis='both', which='both', bottom='off', top='off', left='off', right='off', labelbottom='off', labelleft='off')\n",
    "        if t==0: plt.ylabel('Predicted', fontsize=10)"
   ]
  },
  {
   "cell_type": "code",
   "execution_count": 11,
   "metadata": {
    "collapsed": false
   },
   "outputs": [
    {
     "data": {
      "image/png": "[encoded data removed]",
      "text/plain": [
       "<matplotlib.figure.Figure at 0x7fa669ddb2d0>"
      ]
     },
     "metadata": {},
     "output_type": "display_data"
    }
   ],
   "source": [
    "plt.show()"
   ]
  },
  {
   "cell_type": "code",
   "execution_count": 16,
   "metadata": {
    "collapsed": false
   },
   "outputs": [
    {
     "data": {
      "image/png": "[encoded data removed]",
      "text/plain": [
       "<matplotlib.figure.Figure at 0x7fa668fa2210>"
      ]
     },
     "metadata": {},
     "output_type": "display_data"
    }
   ],
   "source": [
    "plt.imshow(Y_predicted[i,3,:,:,0], interpolation='none')\n",
    "plt.show()"
   ]
  },
  {
   "cell_type": "code",
   "execution_count": null,
   "metadata": {
    "collapsed": false
   },
   "outputs": [],
   "source": [
    "for i in range(9):\n",
    "    plt.imshow(Y_predicted[3,i,:,:,0], interpolation='none')\n",
    "    plt.savefig('/home/ybansal/Documents/Research/stochastic-prednet/Figures/BallPredUp' + str(i)+'.png')\n",
    "plt.show()"
   ]
  },
  {
   "cell_type": "code",
   "execution_count": null,
   "metadata": {
    "collapsed": false
   },
   "outputs": [],
   "source": [
    "data_container['directions']"
   ]
  },
  {
   "cell_type": "code",
   "execution_count": null,
   "metadata": {
    "collapsed": false
   },
   "outputs": [],
   "source": [
    "data_container['trajectories'][:,0,0]"
   ]
  },
  {
   "cell_type": "code",
   "execution_count": null,
   "metadata": {
    "collapsed": true
   },
   "outputs": [],
   "source": []
  }
 ],
 "metadata": {
  "anaconda-cloud": {},
  "kernelspec": {
   "display_name": "Python [conda root]",
   "language": "python",
   "name": "conda-root-py"
  },
  "language_info": {
   "codemirror_mode": {
    "name": "ipython",
    "version": 2
   },
   "file_extension": ".py",
   "mimetype": "text/x-python",
   "name": "python",
   "nbconvert_exporter": "python",
   "pygments_lexer": "ipython2",
   "version": "2.7.12"
  }
 },
 "nbformat": 4,
 "nbformat_minor": 1
}
